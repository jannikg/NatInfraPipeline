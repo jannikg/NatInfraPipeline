{
 "cells": [
  {
   "cell_type": "markdown",
   "metadata": {},
   "source": [
    "# Net Zero Coalition - Embodied Carbon Work Package\n",
    "\n",
    "## Pipeline preparation\n",
    "\n",
    "The code in this notebook will import data from the Infrastructure and Projects Authority National Infrastructure and Construction Pipeline, filter by sector of project and export relevant elements for further analysis.\n",
    "\n",
    "Code was authored by Dr Jannik Giesekam at University of Leeds in March 2020 - contact J.Giesekam@leeds.ac.uk for more details"
   ]
  },
  {
   "cell_type": "code",
   "execution_count": 59,
   "metadata": {},
   "outputs": [],
   "source": [
    "# Import packages\n",
    "import pandas as pd"
   ]
  },
  {
   "cell_type": "markdown",
   "metadata": {},
   "source": [
    "## Variables that may need to be edited\n",
    "The url of latest pipeline from IPA and the list of sectors that are to be included within the project boundary."
   ]
  },
  {
   "cell_type": "code",
   "execution_count": 60,
   "metadata": {},
   "outputs": [],
   "source": [
    "# Update url to latest version as necessary e.g. after National Infrastructure Strategy publication\n",
    "url = 'https://assets.publishing.service.gov.uk/government/uploads/system/uploads/attachment_data/file/759027/National_Infrastructure_and_Construction_Pipeline_Autumn_2018_csv.csv'\n",
    "# More info at https://www.gov.uk/government/publications/national-infrastructure-and-construction-pipeline-2018\n",
    "# Last update was 27/02/19\n",
    "\n",
    "# Select desirable sectors for inclusion - currently loosely based on headline sectors from NIC as per 04/03/20 meeting\n",
    "included_sectors = ['Energy','Utilities','Flood','Waste','Communications','Transport']\n",
    "\n",
    "# this compares with a full list of all sectors from last pipeline update\n",
    "all_sectors = ['Ministry of Defence','Utilities','Energy','Education','Flood','Health',\n",
    " 'Housing and Regeneration','Waste','Home Office','CPS','Justice',\n",
    " 'Communications','Police Forces','Science and Research','Transport']"
   ]
  },
  {
   "cell_type": "markdown",
   "metadata": {},
   "source": [
    "## Import and export\n",
    "\n",
    "Imports the pipeline, filters by sector, sorts and exports"
   ]
  },
  {
   "cell_type": "code",
   "execution_count": 61,
   "metadata": {},
   "outputs": [],
   "source": [
    "# Import pipeline data and clean\n",
    "pipeline_full = pd.read_csv(url, engine='python') # load pipeline\n",
    "pipeline_full.drop(columns = ['Unnamed: 0'], inplace=True) # drop blank column\n",
    "pipeline_full.dropna(how='all', inplace=True) # drop any blank rows\n",
    "\n",
    "# Filter by sectors and export\n",
    "pipeline_selected = pipeline_full[pipeline_full['Sector'].isin(included_sectors)] # Filter to list of included sectors\n",
    "pipeline_selected = pipeline_selected.set_index(['Sector','Sub-Sector','Sub-Group','Scheme Status']) # Group\n",
    "pipeline_selected = pipeline_selected.sort_index() # sort\n",
    "pipeline_selected.to_csv('selected_projects.csv', encoding='utf-8-sig') # export to csv"
   ]
  }
 ],
 "metadata": {
  "kernelspec": {
   "display_name": "Python 3",
   "language": "python",
   "name": "python3"
  },
  "language_info": {
   "codemirror_mode": {
    "name": "ipython",
    "version": 3
   },
   "file_extension": ".py",
   "mimetype": "text/x-python",
   "name": "python",
   "nbconvert_exporter": "python",
   "pygments_lexer": "ipython3",
   "version": "3.6.5"
  }
 },
 "nbformat": 4,
 "nbformat_minor": 2
}
